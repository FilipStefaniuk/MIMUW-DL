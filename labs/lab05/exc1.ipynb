{
 "cells": [
  {
   "cell_type": "code",
   "execution_count": 28,
   "metadata": {},
   "outputs": [],
   "source": [
    "%matplotlib inline\n",
    "# Install all the dependencies needed in your virtualenv. \n",
    "# We use python3 in this notebook.\n",
    "\n",
    "import tensorflow as tf\n",
    "import numpy as np\n",
    "import matplotlib.pyplot as plt\n",
    "import seaborn"
   ]
  },
  {
   "cell_type": "markdown",
   "metadata": {},
   "source": [
    "Example: Create a graph that will compute elementwise sum of two input vectors"
   ]
  },
  {
   "cell_type": "code",
   "execution_count": 5,
   "metadata": {},
   "outputs": [
    {
     "name": "stdout",
     "output_type": "stream",
     "text": [
      "[1. 2.]\n"
     ]
    }
   ],
   "source": [
    "tf.reset_default_graph()\n",
    "a_value = [0.0, 1.0]\n",
    "b_value = [1.0, 1.0]\n",
    "a = tf.placeholder(dtype=tf.float32, name='a')\n",
    "b = tf.placeholder(dtype=tf.float32, name='b')\n",
    "c = a + b\n",
    "with tf.Session() as sess:\n",
    "    print(sess.run(c, feed_dict={a: a_value, b: b_value }))\n",
    "# Expected result [ 1.  2.]"
   ]
  },
  {
   "cell_type": "markdown",
   "metadata": {},
   "source": [
    "Task 1. Create a graph that will compute dot product of two input vectors. Hint: use tf.reduce_sum"
   ]
  },
  {
   "cell_type": "code",
   "execution_count": 25,
   "metadata": {},
   "outputs": [
    {
     "name": "stdout",
     "output_type": "stream",
     "text": [
      "12.0\n"
     ]
    }
   ],
   "source": [
    "tf.reset_default_graph()\n",
    "a_value = [3.0, 1.0]\n",
    "b_value = [3.0, 3.0]\n",
    "a = tf.placeholder(dtype=tf.float32)\n",
    "b = tf.placeholder(dtype=tf.float32)\n",
    "# WRITE YOUR CODE HERE\n",
    "# Expected result: 12.0"
   ]
  },
  {
   "cell_type": "markdown",
   "metadata": {
    "collapsed": true
   },
   "source": [
    "Task 2. Create a graph that given matrix $A$, returns a vector with sums over the second dimension. Hint: use tf.reduce_sum"
   ]
  },
  {
   "cell_type": "code",
   "execution_count": 11,
   "metadata": {},
   "outputs": [
    {
     "name": "stdout",
     "output_type": "stream",
     "text": [
      "[ 6. 18.  6.]\n"
     ]
    }
   ],
   "source": [
    "tf.reset_default_graph()\n",
    "a_value = [\n",
    "    [3.0, 1.0, 2.0],\n",
    "    [1.0, 13.0, 4.0],\n",
    "    [3.0, 1.0, 2.0]\n",
    "    ]\n",
    "    \n",
    "a = tf.placeholder(dtype=tf.float32)\n",
    "# WRITE YOUR CODE HERE\n",
    "# Expected result: [  6.  18.   6.]"
   ]
  },
  {
   "cell_type": "markdown",
   "metadata": {},
   "source": [
    "Task 3. Apply relu, sigmoid, tanh to x"
   ]
  },
  {
   "cell_type": "code",
   "execution_count": 13,
   "metadata": {},
   "outputs": [
    {
     "data": {
      "image/png": "[encoded data removed]",
      "text/plain": [
       "<Figure size 432x288 with 1 Axes>"
      ]
     },
     "metadata": {},
     "output_type": "display_data"
    }
   ],
   "source": [
    "x_value = np.linspace(-10., 10., 1000)\n",
    "\n",
    "x = tf.placeholder(dtype=tf.float32)\n",
    "relu = ... \n",
    "sigmoid = ... \n",
    "tanh = ... \n",
    "\n",
    "\n",
    "# Here we will plot relu, sigmoid, tanh\n",
    "with tf.Session() as sess:\n",
    "    feed_dict = {x: x_value}\n",
    "    _relu, _sigmoid, _tanh = sess.run([relu, sigmoid, tanh], feed_dict)\n",
    "    plt.plot(x_value, _relu, label='relu')\n",
    "    plt.plot(x_value, _sigmoid, label='sigmoid')\n",
    "    plt.plot(x_value, _tanh, label='tanh')\n",
    "    plt.legend(bbox_to_anchor=(0.5, 1.0))\n",
    "    plt.show()"
   ]
  },
  {
   "cell_type": "markdown",
   "metadata": {
    "collapsed": true
   },
   "source": [
    "Task 4. Create operation to decrease variable $a$ by one, hint use tf.assign "
   ]
  },
  {
   "cell_type": "code",
   "execution_count": 17,
   "metadata": {},
   "outputs": [
    {
     "name": "stdout",
     "output_type": "stream",
     "text": [
      "9\n",
      "8\n",
      "7\n",
      "6\n",
      "5\n",
      "4\n",
      "3\n",
      "2\n",
      "1\n",
      "0\n"
     ]
    }
   ],
   "source": [
    "a = tf.Variable(10, dtype=tf.int32, name='a')\n",
    "\n",
    "decrese_op = ...\n",
    "\n",
    "with tf.Session() as sess:\n",
    "    sess.run(tf.global_variables_initializer())\n",
    "    for _ in range(10):\n",
    "        sess.run(decrese_op)\n",
    "        a_value = sess.run(a)\n",
    "        print(a_value)\n",
    "            "
   ]
  },
  {
   "cell_type": "markdown",
   "metadata": {},
   "source": [
    "Task 5. Create operation that returns the shape of the input. Hint: use tf.shape"
   ]
  },
  {
   "cell_type": "code",
   "execution_count": 19,
   "metadata": {},
   "outputs": [
    {
     "name": "stdout",
     "output_type": "stream",
     "text": [
      "[3 4]\n"
     ]
    }
   ],
   "source": [
    "tf.reset_default_graph()\n",
    "a_value = [\n",
    "    [3, 7, 2, 1],\n",
    "    [1, 1, 4, 5],\n",
    "    [3, 6, 2, 2],\n",
    "    ]\n",
    "a = tf.placeholder(dtype=tf.int32)\n",
    "\n",
    "# WRITE YOUR CODE HERE\n",
    "# Expected result:[3 4]"
   ]
  },
  {
   "cell_type": "markdown",
   "metadata": {},
   "source": [
    "Task 7. Create operation that returns coordinates of the maximal element in the matrix. "
   ]
  },
  {
   "cell_type": "code",
   "execution_count": 26,
   "metadata": {},
   "outputs": [
    {
     "name": "stdout",
     "output_type": "stream",
     "text": [
      "[2, 3]\n"
     ]
    }
   ],
   "source": [
    "tf.reset_default_graph()\n",
    "a_value = [\n",
    "    [3, 7, 2, 1],\n",
    "    [1, 1, 14, 5],\n",
    "    [3, 6, 2, 17],\n",
    "    [6, 9, 1, 3],\n",
    "    ]\n",
    "\n",
    "a = tf.placeholder(dtype=tf.int32)\n",
    "\n",
    "# WRITE YOUR CODE HERE\n",
    "# Expected result: [2, 3]\n"
   ]
  },
  {
   "cell_type": "code",
   "execution_count": null,
   "metadata": {},
   "outputs": [],
   "source": []
  },
  {
   "cell_type": "code",
   "execution_count": null,
   "metadata": {},
   "outputs": [],
   "source": []
  }
 ],
 "metadata": {
  "kernelspec": {
   "display_name": "Python 3",
   "language": "python",
   "name": "python3"
  },
  "language_info": {
   "codemirror_mode": {
    "name": "ipython",
    "version": 3
   },
   "file_extension": ".py",
   "mimetype": "text/x-python",
   "name": "python",
   "nbconvert_exporter": "python",
   "pygments_lexer": "ipython3",
   "version": "3.5.2"
  }
 },
 "nbformat": 4,
 "nbformat_minor": 1
}

