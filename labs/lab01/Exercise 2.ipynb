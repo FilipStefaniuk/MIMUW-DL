{
 "cells": [
  {
   "cell_type": "markdown",
   "metadata": {},
   "source": [
    "# Linear regression \n",
    "\n",
    "In this exercise you will use linear regression to predict flat prices. One more time, training will be handled via gradient descent. Although, contratry to the first exercise, we will now:\n",
    "* have multiple features (i.e. variables used to make the prediction),\n",
    "* employ some basic feature engineering,\n",
    "* work with a different loss function.\n",
    "\n",
    "Let's start with getting the data."
   ]
  },
  {
   "cell_type": "code",
   "execution_count": 1,
   "metadata": {},
   "outputs": [
    {
     "name": "stdout",
     "output_type": "stream",
     "text": [
      "--2018-03-15 18:52:36--  https://www.dropbox.com/s/zey0gx91pna8irj/mieszkania.csv?dl=1\n",
      "Resolving www.dropbox.com... 162.125.66.1, 2620:100:6022:1::a27d:4201\n",
      "Connecting to www.dropbox.com|162.125.66.1|:443... connected.\n",
      "HTTP request sent, awaiting response... 302 Found\n",
      "Location: https://dl.dropboxusercontent.com/content_link/0f9q0qYGDOSOR2ajNwjIRLTFTXnmseAm2BkyunP43pzgFF0K4KVKo4AzINxiPRjF/file?dl=1 [following]\n",
      "--2018-03-15 18:52:37--  https://dl.dropboxusercontent.com/content_link/0f9q0qYGDOSOR2ajNwjIRLTFTXnmseAm2BkyunP43pzgFF0K4KVKo4AzINxiPRjF/file?dl=1\n",
      "Resolving dl.dropboxusercontent.com... 162.125.66.6, 2620:100:6022:6::a27d:4206\n",
      "Connecting to dl.dropboxusercontent.com|162.125.66.6|:443... connected.\n",
      "HTTP request sent, awaiting response... 200 OK\n",
      "Length: 6211 (6.1K) [application/binary]\n",
      "Saving to: ‘mieszkania.csv’\n",
      "\n",
      "mieszkania.csv      100%[===================>]   6.07K  --.-KB/s    in 0s      \n",
      "\n",
      "2018-03-15 18:52:38 (542 MB/s) - ‘mieszkania.csv’ saved [6211/6211]\n",
      "\n",
      "--2018-03-15 18:52:38--  https://www.dropbox.com/s/dbrj6sbxb4ayqjz/mieszkania_test.csv?dl=1\n",
      "Resolving www.dropbox.com... 162.125.66.1, 2620:100:6022:1::a27d:4201\n",
      "Connecting to www.dropbox.com|162.125.66.1|:443... connected.\n",
      "HTTP request sent, awaiting response... 302 Found\n",
      "Location: https://dl.dropboxusercontent.com/content_link/03Eq1apCOtNeWcHYkp4QEH7MWubV7zOe3RiiJrqERDSw79fNJvTWKJ4BxB9BQqy5/file?dl=1 [following]\n",
      "--2018-03-15 18:52:39--  https://dl.dropboxusercontent.com/content_link/03Eq1apCOtNeWcHYkp4QEH7MWubV7zOe3RiiJrqERDSw79fNJvTWKJ4BxB9BQqy5/file?dl=1\n",
      "Resolving dl.dropboxusercontent.com... 162.125.66.6, 2620:100:6022:6::a27d:4206\n",
      "Connecting to dl.dropboxusercontent.com|162.125.66.6|:443... connected.\n",
      "HTTP request sent, awaiting response... 200 OK\n",
      "Length: 6247 (6.1K) [application/binary]\n",
      "Saving to: ‘mieszkania_test.csv’\n",
      "\n",
      "mieszkania_test.csv 100%[===================>]   6.10K  --.-KB/s    in 0s      \n",
      "\n",
      "2018-03-15 18:52:41 (293 MB/s) - ‘mieszkania_test.csv’ saved [6247/6247]\n",
      "\n"
     ]
    }
   ],
   "source": [
    "%matplotlib inline\n",
    "\n",
    "!wget -O mieszkania.csv https://www.dropbox.com/s/zey0gx91pna8irj/mieszkania.csv?dl=1\n",
    "!wget -O mieszkania_test.csv https://www.dropbox.com/s/dbrj6sbxb4ayqjz/mieszkania_test.csv?dl=1"
   ]
  },
  {
   "cell_type": "code",
   "execution_count": 2,
   "metadata": {},
   "outputs": [
    {
     "name": "stdout",
     "output_type": "stream",
     "text": [
      "==> mieszkania.csv <==\r\n",
      "m2,dzielnica,ilość_sypialni,ilość_łazienek,rok_budowy,parking_podziemny,cena\r\n",
      "104,mokotowo,2,2,1940,1,780094\r\n",
      "43,ochotowo,1,1,1970,1,346912\r\n",
      "128,grodziskowo,3,2,1916,1,523466\r\n",
      "112,mokotowo,3,2,1920,1,830965\r\n",
      "149,mokotowo,3,3,1977,0,1090479\r\n",
      "80,ochotowo,2,2,1937,0,599060\r\n",
      "58,ochotowo,2,1,1922,0,463639\r\n",
      "23,ochotowo,1,1,1929,0,166785\r\n",
      "40,mokotowo,1,1,1973,0,318849\r\n",
      "\r\n",
      "==> mieszkania_test.csv <==\r\n",
      "m2,dzielnica,ilość_sypialni,ilość_łazienek,rok_budowy,parking_podziemny,cena\r\n",
      "71,wolowo,2,2,1912,1,322227\r\n",
      "45,mokotowo,1,1,1938,0,295878\r\n",
      "38,mokotowo,1,1,1999,1,306530\r\n",
      "70,ochotowo,2,2,1980,1,553641\r\n",
      "136,mokotowo,3,2,1939,1,985348\r\n",
      "128,wolowo,3,2,1983,1,695726\r\n",
      "23,grodziskowo,1,1,1975,0,99751\r\n",
      "117,mokotowo,3,2,1942,0,891261\r\n",
      "65,ochotowo,2,1,2002,1,536499\r\n"
     ]
    }
   ],
   "source": [
    "!head mieszkania.csv mieszkania_test.csv"
   ]
  },
  {
   "cell_type": "code",
   "execution_count": 1,
   "metadata": {},
   "outputs": [],
   "source": [
    "import pandas as pd\n",
    "training = pd.read_csv('mieszkania.csv')\n",
    "test = pd.read_csv('mieszkania_test.csv')\n",
    "\n",
    "features = ['m2', 'dzielnica', 'ilość_sypialni', 'ilość_łazienek', 'rok_budowy', 'parking_podziemny']\n",
    "\n",
    "# training[features].as_matrix\n",
    "ys = training['cena'].as_matrix()"
   ]
  },
  {
   "cell_type": "markdown",
   "metadata": {},
   "source": [
    "Each row in the data represents a separate property. Our goal is to use the data from `mieszkania.csv` to create a model that can predict a property's price (i.e. `cena`) given its features (i.e. `m2,dzielnica,ilosc_sypialni,ilosc_lazienek,rok_budowy,parking_podziemny`). \n",
    "\n",
    "From now on, we should interfere only with `mieszkania.csv` (dubbed the training dataset) to make our decisions and create the model. The (only) purpose of `mieszkania_test.csv` is to test our model on **unseen** data.\n",
    "\n",
    "Our predictions should minimize the so-called mean squared logarithmic error:\n",
    "$$\n",
    "MSLE = \\frac{1}{n} \\sum_{i=1}^n (\\log(1+y_i) - \\log(1+p_i))^2,\n",
    "$$\n",
    "where $y_i$ is the ground truth, and $p_i$ is our prediction."
   ]
  },
  {
   "cell_type": "markdown",
   "metadata": {},
   "source": [
    "Let's start with implementing the loss function."
   ]
  },
  {
   "cell_type": "code",
   "execution_count": 2,
   "metadata": {},
   "outputs": [],
   "source": [
    "import numpy as np\n",
    "def msle(ys, ps):\n",
    "    assert len(ys) == len(ps)\n",
    "    return np.square(np.log(ys + 1) - np.log(ps + 1)).mean()"
   ]
  },
  {
   "cell_type": "markdown",
   "metadata": {},
   "source": [
    "The simplest model is predicting the same constant for each instance. Test your implementation of msle against outputing the mean price."
   ]
  },
  {
   "cell_type": "code",
   "execution_count": 3,
   "metadata": {},
   "outputs": [
    {
     "data": {
      "text/plain": [
       "0.3915253538257009"
      ]
     },
     "execution_count": 3,
     "metadata": {},
     "output_type": "execute_result"
    }
   ],
   "source": [
    "msle(ys, np.array([np.mean(ys) for _ in range(len(ys))]))"
   ]
  },
  {
   "cell_type": "markdown",
   "metadata": {},
   "source": [
    "Recall that outputing the mean minimzes $MSE$. However, we're now dealing with $MSLE$.\n",
    "\n",
    "Think of a constant that should result in the lowest $MSLE$."
   ]
  },
  {
   "cell_type": "code",
   "execution_count": 6,
   "metadata": {},
   "outputs": [
    {
     "data": {
      "text/plain": [
       "0.3915253538257009"
      ]
     },
     "execution_count": 6,
     "metadata": {},
     "output_type": "execute_result"
    }
   ],
   "source": [
    "msle(ys, np.array([np.mean(ys) for _ in range(len(ys))]))"
   ]
  },
  {
   "cell_type": "markdown",
   "metadata": {},
   "source": [
    "Now, let's implement a standard linear regression model. "
   ]
  },
  {
   "cell_type": "code",
   "execution_count": null,
   "metadata": {},
   "outputs": [],
   "source": [
    "##########################################################\n",
    "# TODO: Implement linear regression and compute its msle #\n",
    "##########################################################"
   ]
  },
  {
   "cell_type": "markdown",
   "metadata": {},
   "source": [
    "Note that the loss function that the algorithms optimizes (i.e $MSE$) differs from $MSLE$. We've already seen that this may result in a suboptimal solution.\n",
    "\n",
    "How can you change the setting so that we optimze $MSLE$ instead?"
   ]
  },
  {
   "cell_type": "markdown",
   "metadata": {},
   "source": [
    "Hint: \n",
    "<sub><sup><sub><sup><sub><sup>\n",
    "Be lazy. We don't want to change algorithm.\n",
    "</sup></sub></sup></sub></sup></sub>"
   ]
  },
  {
   "cell_type": "code",
   "execution_count": null,
   "metadata": {},
   "outputs": [],
   "source": [
    "#############################################\n",
    "# TODO: Optimize msle and compare the error #\n",
    "#############################################"
   ]
  },
  {
   "cell_type": "markdown",
   "metadata": {},
   "source": [
    "Without any feature engineering our model approximates the price as a linear combination of original features:\n",
    "$$\n",
    "\\text{price} \\approx w_1 \\cdot \\text{area} + w_2 \\cdot \\text{district} + \\dots.\n",
    "$$\n",
    "Let's now introduce some interactions between the variables. For instance, let's consider a following formula:\n",
    "$$\n",
    "\\text{price} \\approx w_1 \\cdot \\text{area} \\cdot \\text{avg. price in the district per sq. meter} + w_2 \\cdot \\dots + \\dots.\n",
    "$$\n",
    "Here, we model the price with far greater granularity, and we may expect to see more acurate results."
   ]
  },
  {
   "cell_type": "markdown",
   "metadata": {},
   "source": [
    "Add some feature engineering to your model. Be sure to play with the data and not with the algorithm's code. \n",
    "\n",
    "Think how to make sure that your model is capable of capturing the $w_1 \\cdot \\text{area} \\cdot \\text{avg. price...}$ part, without actually computing the averages."
   ]
  },
  {
   "cell_type": "markdown",
   "metadata": {},
   "source": [
    "Hint: \n",
    "<sub><sup><sub><sup><sub><sup>\n",
    "Is having a binary encoding for each district and multiplying it by area enough?\n",
    "</sup></sub></sup></sub></sup></sub>"
   ]
  },
  {
   "cell_type": "markdown",
   "metadata": {},
   "source": [
    "Hint 2: \n",
    "<sub><sup><sub><sup><sub><sup>\n",
    "Why not multiply everything together? I.e. (A,B,C) -> (AB,AC,BC).\n",
    "</sup></sub></sup></sub></sup></sub>"
   ]
  },
  {
   "cell_type": "code",
   "execution_count": null,
   "metadata": {},
   "outputs": [],
   "source": [
    "###############################################\n",
    "# TODO: Implement the feature engieering part #\n",
    "###############################################"
   ]
  },
  {
   "cell_type": "code",
   "execution_count": null,
   "metadata": {
    "collapsed": true
   },
   "outputs": [],
   "source": [
    "##############################################################\n",
    "# TODO: Test your solution on the training and test datasets #\n",
    "##############################################################"
   ]
  }
 ],
 "metadata": {
  "kernelspec": {
   "display_name": "Python [conda env:dnn]",
   "language": "python",
   "name": "conda-env-dnn-py"
  },
  "language_info": {
   "codemirror_mode": {
    "name": "ipython",
    "version": 2
   },
   "file_extension": ".py",
   "mimetype": "text/x-python",
   "name": "python",
   "nbconvert_exporter": "python",
   "pygments_lexer": "ipython2",
   "version": "2.7.14"
  }
 },
 "nbformat": 4,
 "nbformat_minor": 1
}
