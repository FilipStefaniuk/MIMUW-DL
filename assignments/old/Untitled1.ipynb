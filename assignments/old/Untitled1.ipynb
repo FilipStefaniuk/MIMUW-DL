{
 "cells": [
  {
   "cell_type": "markdown",
   "metadata": {},
   "source": [
    "##### Filip Stefaniuk fs361039\n",
    "# Assigmnent 3"
   ]
  },
  {
   "cell_type": "code",
   "execution_count": 5,
   "metadata": {},
   "outputs": [],
   "source": [
    "import matplotlib.pyplot as plt\n",
    "import brackets\n",
    "from models.lstm_2_layer import RNNModel\n",
    "import tensorflow as tf\n",
    "import numpy as np"
   ]
  },
  {
   "cell_type": "markdown",
   "metadata": {},
   "source": [
    "## Data Generator"
   ]
  },
  {
   "cell_type": "code",
   "execution_count": 15,
   "metadata": {},
   "outputs": [
    {
     "data": {
      "image/png": "[encoded data removed]",
      "text/plain": [
       "<Figure size 864x864 with 3 Axes>"
      ]
     },
     "metadata": {},
     "output_type": "display_data"
    }
   ],
   "source": [
    "n = 8\n",
    "\n",
    "bs = {}\n",
    "bs2 = {}\n",
    "bs3 = {}\n",
    "\n",
    "for i in range(100000):\n",
    "    b = brackets.random_bracket(n)\n",
    "    bs[b] = bs.get(b, 0) + 1\n",
    "    \n",
    "    b2 = brackets.random_bracket_heuristic(n)\n",
    "    bs2[b2] = bs2.get(b2, 0) + 1\n",
    "    \n",
    "    \n",
    "    b3 = brackets.random_bracket_joined(n, h=0.5, q=0.9)\n",
    "    bs3[b3] = bs3.get(b3, 0) + 1\n",
    "#     bs3[b] = bs3.get(b, 0) + 1\n",
    "#     bs3[b2] = bs3.get(b2, 0) + 1\n",
    "plt.figure(figsize=(12, 12))\n",
    "\n",
    "plt.subplot(3, 1, 1)\n",
    "plt.bar(range(len(bs)), list(bs.values()))\n",
    "# plt.xticks(range(len(bs)), list(bs.keys()))\n",
    "\n",
    "plt.subplot(3, 1, 2)\n",
    "plt.bar(range(len(bs2)), list(bs2.values()))\n",
    "# plt.xticks(range(len(bs2)), list(bs2.keys()))\n",
    "\n",
    "plt.subplot(3, 1, 3)\n",
    "plt.bar(range(len(bs3)), list(bs3.values()))\n",
    "# plt.xticks(range(len(bs3)), list(bs3.keys()))\n",
    "plt.show()"
   ]
  },
  {
   "cell_type": "markdown",
   "metadata": {},
   "source": [
    "## Models"
   ]
  },
  {
   "cell_type": "code",
   "execution_count": 6,
   "metadata": {},
   "outputs": [],
   "source": [
    "def train(model, n, batch_size=32):\n",
    "\n",
    "    accs = []\n",
    "    losses = []\n",
    "    \n",
    "    with tf.Session() as sess:\n",
    "        sess.run(tf.global_variables_initializer())\n",
    "        sess.run(tf.tables_initializer())\n",
    "        sess.run(tf.local_variables_initializer())\n",
    "        \n",
    "        for step in range(10000):\n",
    "            data_x, data_y = brackets.next_batch(batch_size, n)\n",
    "            \n",
    "            _, loss, acc = sess.run([model.train_step, model.loss, model.acc], feed_dict={model.x: data_x, model.y: data_y})\n",
    "            \n",
    "            accs.append(acc)\n",
    "            losses.append(loss)\n",
    "            \n",
    "            if step % 100 == 0:\n",
    "                print('Step {step}: loss {loss}, mean_loss {mean_loss}'.format(\n",
    "                step=step, loss=loss, mean_loss=np.mean(losses[-200:])))\n",
    "                \n",
    "                print('Accuracy: {acc}'.format(\n",
    "                acc=np.mean(accs[-200:], axis=0)))\n",
    "\n",
    "            \n",
    "    return losses"
   ]
  },
  {
   "cell_type": "code",
   "execution_count": 7,
   "metadata": {},
   "outputs": [
    {
     "name": "stderr",
     "output_type": "stream",
     "text": [
      "/home/filip/.conda/envs/tf35/lib/python3.5/site-packages/tensorflow/python/ops/gradients_impl.py:100: UserWarning: Converting sparse IndexedSlices to a dense Tensor of unknown shape. This may consume a large amount of memory.\n",
      "  \"Converting sparse IndexedSlices to a dense Tensor of unknown shape. \"\n"
     ]
    }
   ],
   "source": [
    "model = RNNModel()"
   ]
  },
  {
   "cell_type": "code",
   "execution_count": 8,
   "metadata": {},
   "outputs": [
    {
     "name": "stdout",
     "output_type": "stream",
     "text": [
      "Step 0: loss 11.455763816833496, mean_loss 11.455763816833496\n",
      "Accuracy: [0. 0. 0.]\n",
      "Step 100: loss 5.70293664932251, mean_loss 10.165874481201172\n",
      "Accuracy: [0.0105198  0.00959158 0.07209159]\n",
      "Step 200: loss 1.2128479480743408, mean_loss 6.163788318634033\n",
      "Accuracy: [0.18015625 0.18       0.126875  ]\n",
      "Step 300: loss 1.1706634759902954, mean_loss 1.75984525680542\n",
      "Accuracy: [0.43125   0.4134375 0.2009375]\n",
      "Step 400: loss 0.8267404437065125, mean_loss 1.205460548400879\n",
      "Accuracy: [0.535625  0.4828125 0.215625 ]\n",
      "Step 500: loss 0.5297651886940002, mean_loss 0.9150803089141846\n",
      "Accuracy: [0.5971875 0.531875  0.225625 ]\n",
      "Step 600: loss 0.48714789748191833, mean_loss 0.6468040347099304\n",
      "Accuracy: [0.68828124 0.6015625  0.26578125]\n",
      "Step 700: loss 0.5596528649330139, mean_loss 0.5181146264076233\n",
      "Accuracy: [0.76375    0.63234377 0.29390624]\n",
      "Step 800: loss 0.3816494941711426, mean_loss 0.5030272006988525\n",
      "Accuracy: [0.7785938 0.6382812 0.2959375]\n",
      "Step 900: loss 0.5017013549804688, mean_loss 0.4886360466480255\n",
      "Accuracy: [0.775625   0.64796877 0.29625   ]\n",
      "Step 1000: loss 0.4793719947338104, mean_loss 0.4640491008758545\n",
      "Accuracy: [0.79078126 0.68125    0.30203125]\n",
      "Step 1100: loss 0.32756975293159485, mean_loss 0.43686798214912415\n",
      "Accuracy: [0.81046873 0.72078127 0.3075    ]\n",
      "Step 1200: loss 0.40539929270744324, mean_loss 0.42687883973121643\n",
      "Accuracy: [0.83203125 0.73828125 0.3140625 ]\n",
      "Step 1300: loss 0.4158594310283661, mean_loss 0.40741807222366333\n",
      "Accuracy: [0.86125    0.7609375  0.32609376]\n",
      "Step 1400: loss 0.4607710838317871, mean_loss 0.38253986835479736\n",
      "Accuracy: [0.88109374 0.7760937  0.348125  ]\n",
      "Step 1500: loss 0.35004758834838867, mean_loss 0.3662547171115875\n",
      "Accuracy: [0.88359374 0.785      0.384375  ]\n",
      "Step 1600: loss 0.4392174780368805, mean_loss 0.33895233273506165\n",
      "Accuracy: [0.9009375 0.8009375 0.4184375]\n",
      "Step 1700: loss 0.2371463030576706, mean_loss 0.32559072971343994\n",
      "Accuracy: [0.91046876 0.801875   0.43546876]\n",
      "Step 1800: loss 0.2844202518463135, mean_loss 0.3165058195590973\n",
      "Accuracy: [0.90671873 0.794375   0.45046875]\n",
      "Step 1900: loss 0.2552925646305084, mean_loss 0.3011508882045746\n",
      "Accuracy: [0.9090625 0.7915625 0.4734375]\n",
      "Step 2000: loss 0.3866945207118988, mean_loss 0.29669320583343506\n",
      "Accuracy: [0.9015625  0.781875   0.49796876]\n",
      "Step 2100: loss 0.3013463318347931, mean_loss 0.29662272334098816\n",
      "Accuracy: [0.8971875  0.76953125 0.52203125]\n",
      "Step 2200: loss 0.20509040355682373, mean_loss 0.28965482115745544\n",
      "Accuracy: [0.8971875 0.76375   0.5384375]\n",
      "Step 2300: loss 0.32068878412246704, mean_loss 0.2790423333644867\n",
      "Accuracy: [0.899375   0.77234375 0.5496875 ]\n",
      "Step 2400: loss 0.19311797618865967, mean_loss 0.2703835368156433\n",
      "Accuracy: [0.903125  0.7809375 0.549375 ]\n",
      "Step 2500: loss 0.24124015867710114, mean_loss 0.26535406708717346\n",
      "Accuracy: [0.90171874 0.7784375  0.5503125 ]\n",
      "Step 2600: loss 0.2667420208454132, mean_loss 0.2599816620349884\n",
      "Accuracy: [0.89953125 0.788125   0.5578125 ]\n",
      "Step 2700: loss 0.2671908736228943, mean_loss 0.2574407458305359\n",
      "Accuracy: [0.90453124 0.7815625  0.54375   ]\n",
      "Step 2800: loss 0.20911984145641327, mean_loss 0.25084003806114197\n",
      "Accuracy: [0.9121875  0.77015626 0.553125  ]\n",
      "Step 2900: loss 0.1714293211698532, mean_loss 0.23604220151901245\n",
      "Accuracy: [0.914375   0.776875   0.57953125]\n",
      "Step 3000: loss 0.24967755377292633, mean_loss 0.22886425256729126\n",
      "Accuracy: [0.91734374 0.78171873 0.579375  ]\n",
      "Step 3100: loss 0.3832821846008301, mean_loss 0.22605733573436737\n",
      "Accuracy: [0.9203125 0.795     0.5765625]\n",
      "Step 3200: loss 0.2775668203830719, mean_loss 0.21555198729038239\n",
      "Accuracy: [0.925625   0.81984377 0.5865625 ]\n",
      "Step 3300: loss 0.23506903648376465, mean_loss 0.20730938017368317\n",
      "Accuracy: [0.9320313  0.83796877 0.6028125 ]\n",
      "Step 3400: loss 0.2952996790409088, mean_loss 0.20594704151153564\n",
      "Accuracy: [0.93609375 0.8489063  0.60765624]\n",
      "Step 3500: loss 0.2623918354511261, mean_loss 0.19970360398292542\n",
      "Accuracy: [0.9429687 0.86375   0.609375 ]\n",
      "Step 3600: loss 0.16346581280231476, mean_loss 0.190740704536438\n",
      "Accuracy: [0.948125 0.878125 0.619375]\n",
      "Step 3700: loss 0.19934697449207306, mean_loss 0.18039005994796753\n",
      "Accuracy: [0.953125   0.88734376 0.639375  ]\n",
      "Step 3800: loss 0.21121494472026825, mean_loss 0.17355594038963318\n",
      "Accuracy: [0.9603125  0.8934375  0.65296876]\n",
      "Step 3900: loss 0.15480245649814606, mean_loss 0.1731823980808258\n",
      "Accuracy: [0.96125   0.8975    0.6528125]\n"
     ]
    },
    {
     "ename": "KeyboardInterrupt",
     "evalue": "",
     "output_type": "error",
     "traceback": [
      "\u001b[0;31m---------------------------------------------------------------------------\u001b[0m",
      "\u001b[0;31mKeyboardInterrupt\u001b[0m                         Traceback (most recent call last)",
      "\u001b[0;32m<ipython-input-8-2cc41854d243>\u001b[0m in \u001b[0;36m<module>\u001b[0;34m()\u001b[0m\n\u001b[0;32m----> 1\u001b[0;31m \u001b[0mlosses\u001b[0m \u001b[0;34m=\u001b[0m \u001b[0mtrain\u001b[0m\u001b[0;34m(\u001b[0m\u001b[0mmodel\u001b[0m\u001b[0;34m,\u001b[0m \u001b[0;36m5\u001b[0m\u001b[0;34m)\u001b[0m\u001b[0;34m\u001b[0m\u001b[0m\n\u001b[0m\u001b[1;32m      2\u001b[0m \u001b[0;34m\u001b[0m\u001b[0m\n\u001b[1;32m      3\u001b[0m \u001b[0mplt\u001b[0m\u001b[0;34m.\u001b[0m\u001b[0mplot\u001b[0m\u001b[0;34m(\u001b[0m\u001b[0mlosses\u001b[0m\u001b[0;34m)\u001b[0m\u001b[0;34m\u001b[0m\u001b[0m\n\u001b[1;32m      4\u001b[0m \u001b[0mplt\u001b[0m\u001b[0;34m.\u001b[0m\u001b[0mshow\u001b[0m\u001b[0;34m(\u001b[0m\u001b[0;34m)\u001b[0m\u001b[0;34m\u001b[0m\u001b[0m\n",
      "\u001b[0;32m<ipython-input-6-dd2e768279b7>\u001b[0m in \u001b[0;36mtrain\u001b[0;34m(model, n, batch_size)\u001b[0m\n\u001b[1;32m     12\u001b[0m             \u001b[0mdata_x\u001b[0m\u001b[0;34m,\u001b[0m \u001b[0mdata_y\u001b[0m \u001b[0;34m=\u001b[0m \u001b[0mbrackets\u001b[0m\u001b[0;34m.\u001b[0m\u001b[0mnext_batch\u001b[0m\u001b[0;34m(\u001b[0m\u001b[0mbatch_size\u001b[0m\u001b[0;34m,\u001b[0m \u001b[0mn\u001b[0m\u001b[0;34m)\u001b[0m\u001b[0;34m\u001b[0m\u001b[0m\n\u001b[1;32m     13\u001b[0m \u001b[0;34m\u001b[0m\u001b[0m\n\u001b[0;32m---> 14\u001b[0;31m             \u001b[0m_\u001b[0m\u001b[0;34m,\u001b[0m \u001b[0mloss\u001b[0m\u001b[0;34m,\u001b[0m \u001b[0macc\u001b[0m \u001b[0;34m=\u001b[0m \u001b[0msess\u001b[0m\u001b[0;34m.\u001b[0m\u001b[0mrun\u001b[0m\u001b[0;34m(\u001b[0m\u001b[0;34m[\u001b[0m\u001b[0mmodel\u001b[0m\u001b[0;34m.\u001b[0m\u001b[0mtrain_step\u001b[0m\u001b[0;34m,\u001b[0m \u001b[0mmodel\u001b[0m\u001b[0;34m.\u001b[0m\u001b[0mloss\u001b[0m\u001b[0;34m,\u001b[0m \u001b[0mmodel\u001b[0m\u001b[0;34m.\u001b[0m\u001b[0macc\u001b[0m\u001b[0;34m]\u001b[0m\u001b[0;34m,\u001b[0m \u001b[0mfeed_dict\u001b[0m\u001b[0;34m=\u001b[0m\u001b[0;34m{\u001b[0m\u001b[0mmodel\u001b[0m\u001b[0;34m.\u001b[0m\u001b[0mx\u001b[0m\u001b[0;34m:\u001b[0m \u001b[0mdata_x\u001b[0m\u001b[0;34m,\u001b[0m \u001b[0mmodel\u001b[0m\u001b[0;34m.\u001b[0m\u001b[0my\u001b[0m\u001b[0;34m:\u001b[0m \u001b[0mdata_y\u001b[0m\u001b[0;34m}\u001b[0m\u001b[0;34m)\u001b[0m\u001b[0;34m\u001b[0m\u001b[0m\n\u001b[0m\u001b[1;32m     15\u001b[0m \u001b[0;34m\u001b[0m\u001b[0m\n\u001b[1;32m     16\u001b[0m             \u001b[0maccs\u001b[0m\u001b[0;34m.\u001b[0m\u001b[0mappend\u001b[0m\u001b[0;34m(\u001b[0m\u001b[0macc\u001b[0m\u001b[0;34m)\u001b[0m\u001b[0;34m\u001b[0m\u001b[0m\n",
      "\u001b[0;32m~/.conda/envs/tf35/lib/python3.5/site-packages/tensorflow/python/client/session.py\u001b[0m in \u001b[0;36mrun\u001b[0;34m(self, fetches, feed_dict, options, run_metadata)\u001b[0m\n\u001b[1;32m    903\u001b[0m     \u001b[0;32mtry\u001b[0m\u001b[0;34m:\u001b[0m\u001b[0;34m\u001b[0m\u001b[0m\n\u001b[1;32m    904\u001b[0m       result = self._run(None, fetches, feed_dict, options_ptr,\n\u001b[0;32m--> 905\u001b[0;31m                          run_metadata_ptr)\n\u001b[0m\u001b[1;32m    906\u001b[0m       \u001b[0;32mif\u001b[0m \u001b[0mrun_metadata\u001b[0m\u001b[0;34m:\u001b[0m\u001b[0;34m\u001b[0m\u001b[0m\n\u001b[1;32m    907\u001b[0m         \u001b[0mproto_data\u001b[0m \u001b[0;34m=\u001b[0m \u001b[0mtf_session\u001b[0m\u001b[0;34m.\u001b[0m\u001b[0mTF_GetBuffer\u001b[0m\u001b[0;34m(\u001b[0m\u001b[0mrun_metadata_ptr\u001b[0m\u001b[0;34m)\u001b[0m\u001b[0;34m\u001b[0m\u001b[0m\n",
      "\u001b[0;32m~/.conda/envs/tf35/lib/python3.5/site-packages/tensorflow/python/client/session.py\u001b[0m in \u001b[0;36m_run\u001b[0;34m(self, handle, fetches, feed_dict, options, run_metadata)\u001b[0m\n\u001b[1;32m   1138\u001b[0m     \u001b[0;32mif\u001b[0m \u001b[0mfinal_fetches\u001b[0m \u001b[0;32mor\u001b[0m \u001b[0mfinal_targets\u001b[0m \u001b[0;32mor\u001b[0m \u001b[0;34m(\u001b[0m\u001b[0mhandle\u001b[0m \u001b[0;32mand\u001b[0m \u001b[0mfeed_dict_tensor\u001b[0m\u001b[0;34m)\u001b[0m\u001b[0;34m:\u001b[0m\u001b[0;34m\u001b[0m\u001b[0m\n\u001b[1;32m   1139\u001b[0m       results = self._do_run(handle, final_targets, final_fetches,\n\u001b[0;32m-> 1140\u001b[0;31m                              feed_dict_tensor, options, run_metadata)\n\u001b[0m\u001b[1;32m   1141\u001b[0m     \u001b[0;32melse\u001b[0m\u001b[0;34m:\u001b[0m\u001b[0;34m\u001b[0m\u001b[0m\n\u001b[1;32m   1142\u001b[0m       \u001b[0mresults\u001b[0m \u001b[0;34m=\u001b[0m \u001b[0;34m[\u001b[0m\u001b[0;34m]\u001b[0m\u001b[0;34m\u001b[0m\u001b[0m\n",
      "\u001b[0;32m~/.conda/envs/tf35/lib/python3.5/site-packages/tensorflow/python/client/session.py\u001b[0m in \u001b[0;36m_do_run\u001b[0;34m(self, handle, target_list, fetch_list, feed_dict, options, run_metadata)\u001b[0m\n\u001b[1;32m   1319\u001b[0m     \u001b[0;32mif\u001b[0m \u001b[0mhandle\u001b[0m \u001b[0;32mis\u001b[0m \u001b[0;32mNone\u001b[0m\u001b[0;34m:\u001b[0m\u001b[0;34m\u001b[0m\u001b[0m\n\u001b[1;32m   1320\u001b[0m       return self._do_call(_run_fn, feeds, fetches, targets, options,\n\u001b[0;32m-> 1321\u001b[0;31m                            run_metadata)\n\u001b[0m\u001b[1;32m   1322\u001b[0m     \u001b[0;32melse\u001b[0m\u001b[0;34m:\u001b[0m\u001b[0;34m\u001b[0m\u001b[0m\n\u001b[1;32m   1323\u001b[0m       \u001b[0;32mreturn\u001b[0m \u001b[0mself\u001b[0m\u001b[0;34m.\u001b[0m\u001b[0m_do_call\u001b[0m\u001b[0;34m(\u001b[0m\u001b[0m_prun_fn\u001b[0m\u001b[0;34m,\u001b[0m \u001b[0mhandle\u001b[0m\u001b[0;34m,\u001b[0m \u001b[0mfeeds\u001b[0m\u001b[0;34m,\u001b[0m \u001b[0mfetches\u001b[0m\u001b[0;34m)\u001b[0m\u001b[0;34m\u001b[0m\u001b[0m\n",
      "\u001b[0;32m~/.conda/envs/tf35/lib/python3.5/site-packages/tensorflow/python/client/session.py\u001b[0m in \u001b[0;36m_do_call\u001b[0;34m(self, fn, *args)\u001b[0m\n\u001b[1;32m   1325\u001b[0m   \u001b[0;32mdef\u001b[0m \u001b[0m_do_call\u001b[0m\u001b[0;34m(\u001b[0m\u001b[0mself\u001b[0m\u001b[0;34m,\u001b[0m \u001b[0mfn\u001b[0m\u001b[0;34m,\u001b[0m \u001b[0;34m*\u001b[0m\u001b[0margs\u001b[0m\u001b[0;34m)\u001b[0m\u001b[0;34m:\u001b[0m\u001b[0;34m\u001b[0m\u001b[0m\n\u001b[1;32m   1326\u001b[0m     \u001b[0;32mtry\u001b[0m\u001b[0;34m:\u001b[0m\u001b[0;34m\u001b[0m\u001b[0m\n\u001b[0;32m-> 1327\u001b[0;31m       \u001b[0;32mreturn\u001b[0m \u001b[0mfn\u001b[0m\u001b[0;34m(\u001b[0m\u001b[0;34m*\u001b[0m\u001b[0margs\u001b[0m\u001b[0;34m)\u001b[0m\u001b[0;34m\u001b[0m\u001b[0m\n\u001b[0m\u001b[1;32m   1328\u001b[0m     \u001b[0;32mexcept\u001b[0m \u001b[0merrors\u001b[0m\u001b[0;34m.\u001b[0m\u001b[0mOpError\u001b[0m \u001b[0;32mas\u001b[0m \u001b[0me\u001b[0m\u001b[0;34m:\u001b[0m\u001b[0;34m\u001b[0m\u001b[0m\n\u001b[1;32m   1329\u001b[0m       \u001b[0mmessage\u001b[0m \u001b[0;34m=\u001b[0m \u001b[0mcompat\u001b[0m\u001b[0;34m.\u001b[0m\u001b[0mas_text\u001b[0m\u001b[0;34m(\u001b[0m\u001b[0me\u001b[0m\u001b[0;34m.\u001b[0m\u001b[0mmessage\u001b[0m\u001b[0;34m)\u001b[0m\u001b[0;34m\u001b[0m\u001b[0m\n",
      "\u001b[0;32m~/.conda/envs/tf35/lib/python3.5/site-packages/tensorflow/python/client/session.py\u001b[0m in \u001b[0;36m_run_fn\u001b[0;34m(feed_dict, fetch_list, target_list, options, run_metadata)\u001b[0m\n\u001b[1;32m   1310\u001b[0m       \u001b[0mself\u001b[0m\u001b[0;34m.\u001b[0m\u001b[0m_extend_graph\u001b[0m\u001b[0;34m(\u001b[0m\u001b[0;34m)\u001b[0m\u001b[0;34m\u001b[0m\u001b[0m\n\u001b[1;32m   1311\u001b[0m       return self._call_tf_sessionrun(\n\u001b[0;32m-> 1312\u001b[0;31m           options, feed_dict, fetch_list, target_list, run_metadata)\n\u001b[0m\u001b[1;32m   1313\u001b[0m \u001b[0;34m\u001b[0m\u001b[0m\n\u001b[1;32m   1314\u001b[0m     \u001b[0;32mdef\u001b[0m \u001b[0m_prun_fn\u001b[0m\u001b[0;34m(\u001b[0m\u001b[0mhandle\u001b[0m\u001b[0;34m,\u001b[0m \u001b[0mfeed_dict\u001b[0m\u001b[0;34m,\u001b[0m \u001b[0mfetch_list\u001b[0m\u001b[0;34m)\u001b[0m\u001b[0;34m:\u001b[0m\u001b[0;34m\u001b[0m\u001b[0m\n",
      "\u001b[0;32m~/.conda/envs/tf35/lib/python3.5/site-packages/tensorflow/python/client/session.py\u001b[0m in \u001b[0;36m_call_tf_sessionrun\u001b[0;34m(self, options, feed_dict, fetch_list, target_list, run_metadata)\u001b[0m\n\u001b[1;32m   1418\u001b[0m         return tf_session.TF_Run(\n\u001b[1;32m   1419\u001b[0m             \u001b[0mself\u001b[0m\u001b[0;34m.\u001b[0m\u001b[0m_session\u001b[0m\u001b[0;34m,\u001b[0m \u001b[0moptions\u001b[0m\u001b[0;34m,\u001b[0m \u001b[0mfeed_dict\u001b[0m\u001b[0;34m,\u001b[0m \u001b[0mfetch_list\u001b[0m\u001b[0;34m,\u001b[0m \u001b[0mtarget_list\u001b[0m\u001b[0;34m,\u001b[0m\u001b[0;34m\u001b[0m\u001b[0m\n\u001b[0;32m-> 1420\u001b[0;31m             status, run_metadata)\n\u001b[0m\u001b[1;32m   1421\u001b[0m \u001b[0;34m\u001b[0m\u001b[0m\n\u001b[1;32m   1422\u001b[0m   \u001b[0;32mdef\u001b[0m \u001b[0m_call_tf_sessionprun\u001b[0m\u001b[0;34m(\u001b[0m\u001b[0mself\u001b[0m\u001b[0;34m,\u001b[0m \u001b[0mhandle\u001b[0m\u001b[0;34m,\u001b[0m \u001b[0mfeed_dict\u001b[0m\u001b[0;34m,\u001b[0m \u001b[0mfetch_list\u001b[0m\u001b[0;34m)\u001b[0m\u001b[0;34m:\u001b[0m\u001b[0;34m\u001b[0m\u001b[0m\n",
      "\u001b[0;31mKeyboardInterrupt\u001b[0m: "
     ]
    }
   ],
   "source": [
    "losses = train(model, 5)\n",
    "\n",
    "plt.plot(losses)\n",
    "plt.show()"
   ]
  },
  {
   "cell_type": "code",
   "execution_count": null,
   "metadata": {},
   "outputs": [],
   "source": []
  },
  {
   "cell_type": "code",
   "execution_count": 62,
   "metadata": {},
   "outputs": [
    {
     "name": "stderr",
     "output_type": "stream",
     "text": [
      "/home/filip/.conda/envs/tf35/lib/python3.5/site-packages/matplotlib/axes/_axes.py:6462: UserWarning: The 'normed' kwarg is deprecated, and has been replaced by the 'density' kwarg.\n",
      "  warnings.warn(\"The 'normed' kwarg is deprecated, and has been \"\n"
     ]
    },
    {
     "data": {
      "image/png": "[encoded data removed]",
      "text/plain": [
       "<Figure size 432x288 with 1 Axes>"
      ]
     },
     "metadata": {},
     "output_type": "display_data"
    }
   ],
   "source": [
    "# beta = 1\n",
    "\n",
    "# Y = np.random.exponential(beta, 50000)\n",
    "Y = np.random.zipf(1.4, 1000)\n",
    "# print(Y)\n",
    "plt.hist(Y, normed=True, bins=200,lw=0,alpha=.8)\n",
    "# plt.plot([0,max(Y)],[target,target],'r--')\n",
    "# plt.ylim(0,target*1.1)\n",
    "plt.show()\n",
    "\n"
   ]
  },
  {
   "cell_type": "code",
   "execution_count": 10,
   "metadata": {},
   "outputs": [
    {
     "data": {
      "image/png": "[encoded data removed]",
      "text/plain": [
       "<Figure size 576x576 with 1 Axes>"
      ]
     },
     "metadata": {},
     "output_type": "display_data"
    }
   ],
   "source": [
    "N = 5\n",
    "\n",
    "bs4 = {}\n",
    "\n",
    "for i in range(100000):\n",
    "    b4 = brackets.random_bracket_len(N)\n",
    "    bs4[b4] = bs4.get(b4, 0) + 1\n",
    "\n",
    "plt.figure(figsize=(8, 8))\n",
    "\n",
    "plt.bar(range(len(bs4)), list(bs4.values()))\n",
    "# plt.xticks(range(len(bs4)), list(bs4.keys()))\n",
    "plt.show()"
   ]
  },
  {
   "cell_type": "code",
   "execution_count": null,
   "metadata": {},
   "outputs": [],
   "source": []
  }
 ],
 "metadata": {
  "kernelspec": {
   "display_name": "Python [conda env:tf35]",
   "language": "python",
   "name": "conda-env-tf35-py"
  },
  "language_info": {
   "codemirror_mode": {
    "name": "ipython",
    "version": 3
   },
   "file_extension": ".py",
   "mimetype": "text/x-python",
   "name": "python",
   "nbconvert_exporter": "python",
   "pygments_lexer": "ipython3",
   "version": "3.5.5"
  }
 },
 "nbformat": 4,
 "nbformat_minor": 2
}
