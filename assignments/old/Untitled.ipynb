{
 "cells": [
  {
   "cell_type": "code",
   "execution_count": 1,
   "metadata": {
    "nbpresent": {
     "id": "6f48946d-10e1-416a-b809-a19f5b333639"
    }
   },
   "outputs": [],
   "source": [
    "import tensorflow as tf\n",
    "import numpy as np\n",
    "import matplotlib.pyplot as plt\n",
    "from dataset import Dataset\n",
    "from model import RNNModel\n",
    "from bracket_generator import encode, compute_statistics"
   ]
  },
  {
   "cell_type": "code",
   "execution_count": 2,
   "metadata": {
    "nbpresent": {
     "id": "9ef42ce2-023d-444e-8cbe-5f3e0d311189"
    }
   },
   "outputs": [],
   "source": [
    "def train(sess, model, dataset, training_steps):\n",
    "    \n",
    "    sess.run(tf.global_variables_initializer())\n",
    "\n",
    "    losses = []\n",
    "\n",
    "    for step in range(training_steps):\n",
    "\n",
    "        batch_x, batch_seqlen, batch_y = sess.run(dataset.next)\n",
    "\n",
    "        _, loss = sess.run([model.optimizer, model.loss], feed_dict={\n",
    "            model.x: batch_x,\n",
    "            model.seqlen: batch_seqlen,\n",
    "            model.y_: batch_y\n",
    "        })\n",
    "\n",
    "        losses.append(loss)\n",
    "\n",
    "        if step % 100 == 0:\n",
    "            print('Step {step}: loss {loss}, mean_loss {mean_loss}'.format(\n",
    "                step=step, loss=loss, mean_loss=np.mean(losses[-200:])))\n",
    "\n",
    "    return losses"
   ]
  },
  {
   "cell_type": "code",
   "execution_count": 3,
   "metadata": {
    "nbpresent": {
     "id": "1ee8c51c-f4a8-4483-80c2-eaf1de0d0d74"
    }
   },
   "outputs": [],
   "source": [
    "def predict_example(sess, model, string, max_len):\n",
    "    encoded, l = encode(string, max_len)\n",
    "    true_value = compute_statistics(string)\n",
    "    \n",
    "    preds = sess.run(model.y, feed_dict={\n",
    "        model.x: np.asarray([encoded]),\n",
    "        model.seqlen: np.asarray([l]),\n",
    "    })\n",
    "    \n",
    "    return string, true_value, preds[0]\n",
    "    "
   ]
  },
  {
   "cell_type": "markdown",
   "metadata": {
    "nbpresent": {
     "id": "f40029cf-56f8-41c4-8184-980621ed4ed3"
    }
   },
   "source": [
    "## RNN "
   ]
  },
  {
   "cell_type": "code",
   "execution_count": 4,
   "metadata": {
    "nbpresent": {
     "id": "547ac871-0dd5-41b3-9b7b-fff77f0d79db"
    }
   },
   "outputs": [
    {
     "name": "stderr",
     "output_type": "stream",
     "text": [
      "/home/filip/.conda/envs/tf35/lib/python3.5/site-packages/tensorflow/python/ops/gradients_impl.py:100: UserWarning: Converting sparse IndexedSlices to a dense Tensor of unknown shape. This may consume a large amount of memory.\n",
      "  \"Converting sparse IndexedSlices to a dense Tensor of unknown shape. \"\n"
     ]
    }
   ],
   "source": [
    "sess = tf.Session()\n",
    "max_len = 50\n",
    "dataset1 = Dataset(max_len=max_len)\n",
    "model = RNNModel(max_len * 2)"
   ]
  },
  {
   "cell_type": "code",
   "execution_count": 5,
   "metadata": {
    "nbpresent": {
     "id": "008b23de-2607-414e-afbc-fd3e3b83222f"
    }
   },
   "outputs": [
    {
     "name": "stdout",
     "output_type": "stream",
     "text": [
      "Step 0: loss 397.9716796875, mean_loss 397.9716796875\n",
      "Step 100: loss 181.01014709472656, mean_loss 322.39227294921875\n",
      "Step 200: loss 227.207275390625, mean_loss 246.97476196289062\n",
      "Step 300: loss 172.0597686767578, mean_loss 161.09690856933594\n",
      "Step 400: loss 91.3955078125, mean_loss 136.7144012451172\n",
      "Step 500: loss 110.89691162109375, mean_loss 126.78064727783203\n",
      "Step 600: loss 196.77149963378906, mean_loss 127.29348754882812\n",
      "Step 700: loss 101.22554779052734, mean_loss 114.60778045654297\n",
      "Step 800: loss 147.53480529785156, mean_loss 97.6450424194336\n",
      "Step 900: loss 49.05076599121094, mean_loss 90.238525390625\n"
     ]
    }
   ],
   "source": [
    "losses = train(sess, model, dataset1, 1000)\n",
    "# with tf.Session() as sess:\n",
    "#     tf.global_variables_initializer().run()\n",
    "#     batch_x, batch_seqlen, batch_y = sess.run(dataset1.next)\n",
    "#     print(batch_seqlen)"
   ]
  },
  {
   "cell_type": "code",
   "execution_count": 6,
   "metadata": {
    "nbpresent": {
     "id": "8e024461-ae02-4bb0-952a-5a8d6ce74171"
    }
   },
   "outputs": [
    {
     "data": {
      "image/png": "[encoded data removed]",
      "text/plain": [
       "<Figure size 432x288 with 1 Axes>"
      ]
     },
     "metadata": {},
     "output_type": "display_data"
    }
   ],
   "source": [
    "plt.plot(losses)\n",
    "plt.show()"
   ]
  },
  {
   "cell_type": "code",
   "execution_count": 8,
   "metadata": {
    "nbpresent": {
     "id": "58a14681-b8b1-4c89-8b24-8fd15f5b5e21"
    }
   },
   "outputs": [
    {
     "name": "stdout",
     "output_type": "stream",
     "text": [
      "(()(()))(()()()(()()(()(()(()())))()()()()((())(()))(((())())()()))) (6, 4, 59) [ 6.243778   3.1000507 39.73484  ]\n"
     ]
    }
   ],
   "source": [
    "s, y_, y = predict_example(sess, model, '(()(()))(()()()(()()(()(()(()())))()()()()((())(()))(((())())()())))', max_len)\n",
    "print('{s} {y_} {y}'.format(s=s, y_=y_, y=y))"
   ]
  },
  {
   "cell_type": "code",
   "execution_count": null,
   "metadata": {
    "nbpresent": {
     "id": "3826a625-7862-4f10-a28f-c54d087d4ad6"
    }
   },
   "outputs": [],
   "source": []
  }
 ],
 "metadata": {
  "kernelspec": {
   "display_name": "Python [conda env:tf35]",
   "language": "python",
   "name": "conda-env-tf35-py"
  },
  "language_info": {
   "codemirror_mode": {
    "name": "ipython",
    "version": 3
   },
   "file_extension": ".py",
   "mimetype": "text/x-python",
   "name": "python",
   "nbconvert_exporter": "python",
   "pygments_lexer": "ipython3",
   "version": "3.5.5"
  }
 },
 "nbformat": 4,
 "nbformat_minor": 2
}
